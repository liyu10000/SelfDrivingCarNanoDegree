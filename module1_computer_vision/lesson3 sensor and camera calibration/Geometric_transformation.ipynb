{
 "cells": [
  {
   "cell_type": "code",
   "execution_count": null,
   "metadata": {},
   "outputs": [],
   "source": [
    "import numpy as np\n",
    "from PIL import Image"
   ]
  },
  {
   "cell_type": "markdown",
   "metadata": {},
   "source": [
    "## Resize"
   ]
  },
  {
   "cell_type": "markdown",
   "metadata": {},
   "source": [
    "Using Pillow, we can resize an image to a given (height, width)."
   ]
  },
  {
   "cell_type": "code",
   "execution_count": null,
   "metadata": {},
   "outputs": [],
   "source": [
    "impath = 'images/segment-12212767626682531382_2100_150_2120_150_with_camera_labels_48.png'"
   ]
  },
  {
   "cell_type": "code",
   "execution_count": null,
   "metadata": {},
   "outputs": [],
   "source": [
    "img = Image.open(impath)\n",
    "print(f'The image size is {img.size}')"
   ]
  },
  {
   "cell_type": "code",
   "execution_count": null,
   "metadata": {},
   "outputs": [],
   "source": [
    "img"
   ]
  },
  {
   "cell_type": "code",
   "execution_count": null,
   "metadata": {},
   "outputs": [],
   "source": [
    "img_resized = img.resize((960, 640))\n",
    "print(f'The image size is {img_resized.size}')"
   ]
  },
  {
   "cell_type": "markdown",
   "metadata": {},
   "source": [
    "## Affine transformation"
   ]
  },
  {
   "cell_type": "markdown",
   "metadata": {},
   "source": [
    "An affine transformation is a **geometric transformation that preserves lines and parallelism** (but not necessarily distances and angles)\n",
    "\n"
   ]
  },
  {
   "cell_type": "markdown",
   "metadata": {},
   "source": [
    "### Resizing"
   ]
  },
  {
   "cell_type": "markdown",
   "metadata": {},
   "source": [
    "Resizing is a specific type of affine transformation. We can replicate the result by using the following transformation matrix:\n",
    "\n",
    "$$\n",
    "\\left(\\begin{array}{ccc} \n",
    "c_{x} & 0 & 0\\\\\n",
    "0 & c_{y} & 0\\\\\n",
    "0 & 0 & 1\\\\\n",
    "\\end{array}\\right)\n",
    "$$ \n",
    "\n",
    "In Pillow, we can use $c_{x} = 0.5$ and $c_{y} = 0.5$ to divide each dimension of the image by 2.\n"
   ]
  },
  {
   "cell_type": "code",
   "execution_count": null,
   "metadata": {},
   "outputs": [],
   "source": [
    "trans_matrix = np.array([[0.5, 0, 0], [0, 0.5, 0], [0, 0, 1]])\n",
    "trans_inv = np.linalg.inv(trans_matrix)"
   ]
  },
  {
   "cell_type": "code",
   "execution_count": null,
   "metadata": {},
   "outputs": [],
   "source": [
    "im_trans = img.transform((960, 640), method=Image.AFFINE, data=trans_inv.flatten())\n",
    "print(f'The image size is {im_trans.size}')"
   ]
  },
  {
   "cell_type": "code",
   "execution_count": null,
   "metadata": {},
   "outputs": [],
   "source": [
    "im_trans"
   ]
  },
  {
   "cell_type": "markdown",
   "metadata": {},
   "source": [
    "### Translation"
   ]
  },
  {
   "cell_type": "markdown",
   "metadata": {},
   "source": [
    "We can use the same function to perform rotation\n",
    "\n",
    "$$\n",
    "\\left(\\begin{array}{ccc} \n",
    "1 & 0 & t_{x}\\\\\n",
    "0 & 1 & t_{y}\\\\\n",
    "0 & 0 & 1\\\\\n",
    "\\end{array}\\right)\n",
    "$$ \n",
    "\n",
    "For example, we are going to translate the image by 200 pixels right and 100 pixels down respectively. We will use $t_{x}=200$ and  $t_{y}=100$"
   ]
  },
  {
   "cell_type": "code",
   "execution_count": null,
   "metadata": {},
   "outputs": [],
   "source": [
    "trans_matrix = np.array([[1, 0, 200], [0, 1, 100], [0, 0, 1]])\n",
    "trans_inv = np.linalg.inv(trans_matrix)"
   ]
  },
  {
   "cell_type": "code",
   "execution_count": null,
   "metadata": {},
   "outputs": [],
   "source": [
    "img.transform(img.size, method=Image.AFFINE, data=trans_inv.flatten())"
   ]
  },
  {
   "cell_type": "markdown",
   "metadata": {},
   "source": [
    "### Shear"
   ]
  },
  {
   "cell_type": "markdown",
   "metadata": {},
   "source": [
    "We can use the same function to perform horizontal or vertical shearing:\n",
    "\n",
    "$$\n",
    "\\left(\\begin{array}{ccc} \n",
    "1 & s_{x} & 0\\\\\n",
    "s_{y} & 1 & 0\\\\\n",
    "0 & 0 & 1\\\\\n",
    "\\end{array}\\right)\n",
    "$$ "
   ]
  },
  {
   "cell_type": "code",
   "execution_count": null,
   "metadata": {},
   "outputs": [],
   "source": [
    "trans_matrix = np.array([[1, 0.1, 0], [0, 1, 0], [0, 0, 1]])\n",
    "trans_inv = np.linalg.inv(trans_matrix)"
   ]
  },
  {
   "cell_type": "code",
   "execution_count": null,
   "metadata": {},
   "outputs": [],
   "source": [
    "img.transform(img.size, method=Image.AFFINE, data=trans_inv.flatten())"
   ]
  },
  {
   "cell_type": "markdown",
   "metadata": {},
   "source": [
    "### Combination"
   ]
  },
  {
   "cell_type": "code",
   "execution_count": null,
   "metadata": {},
   "outputs": [],
   "source": [
    "translation = np.array([[1, 0, 200], [0, 1, 100], [0, 0, 1]])\n",
    "shearing = np.array([[1, 0.1, 0], [0, 1, 0], [0, 0, 1]])\n",
    "trans_matrix = translation @ shearing\n",
    "trans_inv = np.linalg.inv(trans_matrix)"
   ]
  },
  {
   "cell_type": "code",
   "execution_count": null,
   "metadata": {
    "scrolled": true
   },
   "outputs": [],
   "source": [
    "img.transform(img.size, method=Image.AFFINE, data=trans_inv.flatten())"
   ]
  },
  {
   "cell_type": "code",
   "execution_count": null,
   "metadata": {},
   "outputs": [],
   "source": []
  }
 ],
 "metadata": {
  "kernelspec": {
   "display_name": "Python 3",
   "language": "python",
   "name": "python3"
  },
  "language_info": {
   "codemirror_mode": {
    "name": "ipython",
    "version": 3
   },
   "file_extension": ".py",
   "mimetype": "text/x-python",
   "name": "python",
   "nbconvert_exporter": "python",
   "pygments_lexer": "ipython3",
   "version": "3.6.3"
  }
 },
 "nbformat": 4,
 "nbformat_minor": 4
}
